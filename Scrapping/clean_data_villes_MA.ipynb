{
 "cells": [
  {
   "cell_type": "code",
   "execution_count": 2,
   "id": "7d3f5ecd",
   "metadata": {},
   "outputs": [],
   "source": [
    "import pandas as pd\n",
    "import numpy as np"
   ]
  },
  {
   "cell_type": "code",
   "execution_count": 50,
   "id": "3c0ec934",
   "metadata": {},
   "outputs": [],
   "source": [
    "df_data_villes = pd.read_csv(\"villes_cp.csv\", \n",
    "                             delimiter=\";\",\n",
    "                             encoding=\"latin1\")"
   ]
  },
  {
   "cell_type": "code",
   "execution_count": 51,
   "id": "bb682800",
   "metadata": {},
   "outputs": [],
   "source": [
    "#permet d'avoir 5 caractères dans tous les cas donc 4400 --> 04400\n",
    "df_data_villes['Code_postal'] = df_data_villes['Code_postal'].astype(str).str.zfill(5)"
   ]
  },
  {
   "cell_type": "code",
   "execution_count": null,
   "id": "8f248e9b",
   "metadata": {},
   "outputs": [],
   "source": [
    "#Création de la colonne pour le scrapping de Meilleur Agent\n",
    "df_data_villes['Lib_MA'] = df_data_villes['Ligne_5'].fillna(df_data_villes['Nom_de_la_commune'])"
   ]
  },
  {
   "cell_type": "code",
   "execution_count": null,
   "id": "8696d980",
   "metadata": {},
   "outputs": [],
   "source": [
    "# remplace les majuscule par des minuscule et remplacer les espaces par des \"-\"\n",
    "df_data_villes['Nom_de_la_commune_url'] = df_data_villes['Lib_MA'].str.lower().str.replace(\" \", \"-\", regex=False) \n",
    "\n",
    "# remplacer les st par saint\n",
    "df_data_villes['Nom_de_la_commune_url'] = df_data_villes['Nom_de_la_commune_url'].str.replace(r'^st', 'saint', case=False, regex=True)\n",
    "\n",
    "#Création de la colonne url\n",
    "df_data_villes['url'] = (\"https://www.meilleursagents.com/prix-immobilier/\" + df_data_villes['Nom_de_la_commune_url'] + \"-\" + df_data_villes['Code_postal'].astype(str) + \"/\")\n",
    "\n",
    "#Je ne garde que les départements de la métropole\n",
    "df_data_villes_clean = df_data_villes[df_data_villes['Code_postal'] < '96000']\n",
    "\n",
    "#je supprime les colonnes inutiles\n",
    "df_data_villes_clean = df_data_villes_clean[['#Code_commune_INSEE','Lib_MA','Code_postal','Nom_de_la_commune_url','url']]"
   ]
  },
  {
   "cell_type": "code",
   "execution_count": 68,
   "id": "6ca27c59",
   "metadata": {},
   "outputs": [
    {
     "data": {
      "text/html": [
       "<div>\n",
       "<style scoped>\n",
       "    .dataframe tbody tr th:only-of-type {\n",
       "        vertical-align: middle;\n",
       "    }\n",
       "\n",
       "    .dataframe tbody tr th {\n",
       "        vertical-align: top;\n",
       "    }\n",
       "\n",
       "    .dataframe thead th {\n",
       "        text-align: right;\n",
       "    }\n",
       "</style>\n",
       "<table border=\"1\" class=\"dataframe\">\n",
       "  <thead>\n",
       "    <tr style=\"text-align: right;\">\n",
       "      <th></th>\n",
       "      <th>#Code_commune_INSEE</th>\n",
       "      <th>Lib_MA</th>\n",
       "      <th>Code_postal</th>\n",
       "      <th>Nom_de_la_commune_url</th>\n",
       "      <th>url</th>\n",
       "    </tr>\n",
       "  </thead>\n",
       "  <tbody>\n",
       "    <tr>\n",
       "      <th>0</th>\n",
       "      <td>01001</td>\n",
       "      <td>L ABERGEMENT CLEMENCIAT</td>\n",
       "      <td>01400</td>\n",
       "      <td>l-abergement-clemenciat</td>\n",
       "      <td>https://www.meilleursagents.com/prix-immobilie...</td>\n",
       "    </tr>\n",
       "    <tr>\n",
       "      <th>1</th>\n",
       "      <td>01002</td>\n",
       "      <td>L ABERGEMENT DE VAREY</td>\n",
       "      <td>01640</td>\n",
       "      <td>l-abergement-de-varey</td>\n",
       "      <td>https://www.meilleursagents.com/prix-immobilie...</td>\n",
       "    </tr>\n",
       "    <tr>\n",
       "      <th>2</th>\n",
       "      <td>01004</td>\n",
       "      <td>AMBERIEU EN BUGEY</td>\n",
       "      <td>01500</td>\n",
       "      <td>amberieu-en-bugey</td>\n",
       "      <td>https://www.meilleursagents.com/prix-immobilie...</td>\n",
       "    </tr>\n",
       "    <tr>\n",
       "      <th>3</th>\n",
       "      <td>01005</td>\n",
       "      <td>AMBERIEUX EN DOMBES</td>\n",
       "      <td>01330</td>\n",
       "      <td>amberieux-en-dombes</td>\n",
       "      <td>https://www.meilleursagents.com/prix-immobilie...</td>\n",
       "    </tr>\n",
       "    <tr>\n",
       "      <th>4</th>\n",
       "      <td>01006</td>\n",
       "      <td>AMBLEON</td>\n",
       "      <td>01300</td>\n",
       "      <td>ambleon</td>\n",
       "      <td>https://www.meilleursagents.com/prix-immobilie...</td>\n",
       "    </tr>\n",
       "  </tbody>\n",
       "</table>\n",
       "</div>"
      ],
      "text/plain": [
       "  #Code_commune_INSEE                   Lib_MA Code_postal  \\\n",
       "0               01001  L ABERGEMENT CLEMENCIAT       01400   \n",
       "1               01002    L ABERGEMENT DE VAREY       01640   \n",
       "2               01004        AMBERIEU EN BUGEY       01500   \n",
       "3               01005      AMBERIEUX EN DOMBES       01330   \n",
       "4               01006                  AMBLEON       01300   \n",
       "\n",
       "     Nom_de_la_commune_url                                                url  \n",
       "0  l-abergement-clemenciat  https://www.meilleursagents.com/prix-immobilie...  \n",
       "1    l-abergement-de-varey  https://www.meilleursagents.com/prix-immobilie...  \n",
       "2        amberieu-en-bugey  https://www.meilleursagents.com/prix-immobilie...  \n",
       "3      amberieux-en-dombes  https://www.meilleursagents.com/prix-immobilie...  \n",
       "4                  ambleon  https://www.meilleursagents.com/prix-immobilie...  "
      ]
     },
     "execution_count": 68,
     "metadata": {},
     "output_type": "execute_result"
    }
   ],
   "source": [
    "#Test\n",
    "df_data_villes_clean.head()"
   ]
  },
  {
   "cell_type": "code",
   "execution_count": 69,
   "id": "214f3201",
   "metadata": {},
   "outputs": [],
   "source": [
    "#Ici on enregistre le nouveau df en entier\n",
    "df_data_villes_clean.to_csv('villes_cp_clean.csv')"
   ]
  },
  {
   "cell_type": "code",
   "execution_count": 70,
   "id": "92f0e473",
   "metadata": {},
   "outputs": [
    {
     "name": "stderr",
     "output_type": "stream",
     "text": [
      "c:\\Users\\USER\\miniconda3\\envs\\selenium_env1\\Lib\\site-packages\\numpy\\_core\\fromnumeric.py:57: FutureWarning: 'DataFrame.swapaxes' is deprecated and will be removed in a future version. Please use 'DataFrame.transpose' instead.\n",
      "  return bound(*args, **kwds)\n"
     ]
    }
   ],
   "source": [
    "#Ici on divise et enregistre le nouveau df en 15\n",
    "number_of_chunks = 15\n",
    "for i, chunk in enumerate(np.array_split(df_data_villes_clean, number_of_chunks)):\n",
    "    chunk.to_csv(f'output_{i+1}.csv')"
   ]
  }
 ],
 "metadata": {
  "kernelspec": {
   "display_name": "selenium_env1",
   "language": "python",
   "name": "python3"
  },
  "language_info": {
   "codemirror_mode": {
    "name": "ipython",
    "version": 3
   },
   "file_extension": ".py",
   "mimetype": "text/x-python",
   "name": "python",
   "nbconvert_exporter": "python",
   "pygments_lexer": "ipython3",
   "version": "3.13.5"
  }
 },
 "nbformat": 4,
 "nbformat_minor": 5
}
