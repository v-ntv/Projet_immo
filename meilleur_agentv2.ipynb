{
 "cells": [
  {
   "cell_type": "markdown",
   "id": "047182f7",
   "metadata": {},
   "source": [
    "# Bien penser à changer le CSV et le nom des DF !!"
   ]
  },
  {
   "cell_type": "code",
   "execution_count": 1,
   "id": "3d9f3b5b",
   "metadata": {},
   "outputs": [
    {
     "name": "stderr",
     "output_type": "stream",
     "text": [
      "/Users/amauryguilbaud/Library/Python/3.9/lib/python/site-packages/urllib3/__init__.py:35: NotOpenSSLWarning: urllib3 v2 only supports OpenSSL 1.1.1+, currently the 'ssl' module is compiled with 'LibreSSL 2.8.3'. See: https://github.com/urllib3/urllib3/issues/3020\n",
      "  warnings.warn(\n"
     ]
    }
   ],
   "source": [
    "from selenium import webdriver\n",
    "from selenium_stealth import stealth\n",
    "from bs4 import BeautifulSoup\n",
    "import pandas as pd\n",
    "import re, time, random\n",
    "import plotly.express as px"
   ]
  },
  {
   "cell_type": "code",
   "execution_count": 3,
   "id": "373448a2",
   "metadata": {},
   "outputs": [],
   "source": [
    "df_data_villes_clean9 = pd.read_csv(\"/Users/amauryguilbaud/Documents/Code/vscode/Meilleur agent/output_9.csv\", \n",
    "                                    delimiter=\",\",\n",
    "                                    index_col=0)\n"
   ]
  },
  {
   "cell_type": "code",
   "execution_count": 4,
   "id": "79f9cecb",
   "metadata": {},
   "outputs": [
    {
     "data": {
      "text/plain": [
       "(2044, 2)"
      ]
     },
     "execution_count": 4,
     "metadata": {},
     "output_type": "execute_result"
    }
   ],
   "source": [
    "df_data_villes_clean9.shape"
   ]
  },
  {
   "cell_type": "code",
   "execution_count": null,
   "id": "817555a3",
   "metadata": {},
   "outputs": [
    {
     "name": "stdout",
     "output_type": "stream",
     "text": [
      "Erreur pour l'URL https://www.meilleursagents.com/prix-immobilier/lacepede-47360/: list index out of range\n",
      "Datas ajoutées pour la ville : Lachapelle\n",
      "Datas ajoutées pour la ville : Lafitte-sur-Lot\n",
      "Datas ajoutées pour la ville : Lafox\n",
      "Datas ajoutées pour la ville : Lagarrigue\n"
     ]
    },
    {
     "ename": "KeyboardInterrupt",
     "evalue": "",
     "output_type": "error",
     "traceback": [
      "\u001b[0;31m---------------------------------------------------------------------------\u001b[0m",
      "\u001b[0;31mKeyboardInterrupt\u001b[0m                         Traceback (most recent call last)",
      "Cell \u001b[0;32mIn[15], line 33\u001b[0m\n\u001b[1;32m     30\u001b[0m url \u001b[38;5;241m=\u001b[39m row[\u001b[38;5;124m'\u001b[39m\u001b[38;5;124murl\u001b[39m\u001b[38;5;124m'\u001b[39m]\n\u001b[1;32m     31\u001b[0m \u001b[38;5;28;01mtry\u001b[39;00m:\n\u001b[1;32m     32\u001b[0m     \u001b[38;5;66;03m# Human-like pacing\u001b[39;00m\n\u001b[0;32m---> 33\u001b[0m     \u001b[43mtime\u001b[49m\u001b[38;5;241;43m.\u001b[39;49m\u001b[43msleep\u001b[49m\u001b[43m(\u001b[49m\u001b[43mrandom\u001b[49m\u001b[38;5;241;43m.\u001b[39;49m\u001b[43muniform\u001b[49m\u001b[43m(\u001b[49m\u001b[38;5;241;43m1.8\u001b[39;49m\u001b[43m,\u001b[49m\u001b[43m \u001b[49m\u001b[38;5;241;43m3.6\u001b[39;49m\u001b[43m)\u001b[49m\u001b[43m)\u001b[49m\n\u001b[1;32m     35\u001b[0m     driver\u001b[38;5;241m.\u001b[39mget(url)\n\u001b[1;32m     36\u001b[0m     html \u001b[38;5;241m=\u001b[39m driver\u001b[38;5;241m.\u001b[39mpage_source\n",
      "\u001b[0;31mKeyboardInterrupt\u001b[0m: "
     ]
    }
   ],
   "source": [
    "def extract_number(text):\n",
    "    \"\"\"Nettoyer le texte et transformer en float\"\"\"\n",
    "    clean_text = text.replace(\"\\u202f\", \"\").replace(\"\\xa0\", \"\").replace(\"€\", \"\").strip()\n",
    "    clean_text = clean_text.replace(\",\", \".\")\n",
    "    return float(clean_text)\n",
    "\n",
    "# Selenium setup (Chrome auto-managed by Selenium Manager; Chrome must be installed)\n",
    "options = webdriver.ChromeOptions()\n",
    "options.add_argument(\"--lang=fr-FR\")\n",
    "options.add_argument(\"--disable-blink-features=AutomationControlled\")\n",
    "# Uncomment to persist cookies/session between runs:\n",
    "# options.add_argument(r\"--user-data-dir=C:\\Users\\Dell\\AppData\\Local\\Google\\Chrome\\User Data\\ScrapeProfile\")\n",
    "\n",
    "driver = webdriver.Chrome(options=options)\n",
    "stealth(driver,\n",
    "    languages=[\"fr-FR\", \"fr\"],\n",
    "    vendor=\"Google Inc.\",\n",
    "    platform=\"Win32\",\n",
    "    webgl_vendor=\"Intel Inc.\",\n",
    "    renderer=\"Intel Iris OpenGL Engine\",\n",
    "    fix_hairline=True,\n",
    ")\n",
    "driver.set_window_size(1366, 768)\n",
    "\n",
    "# Liste pour stocker toutes les données\n",
    "all_data = []\n",
    "error_data = []\n",
    "\n",
    "for index, row in df_data_villes_clean9.iterrows():\n",
    "    url = row['url']\n",
    "    try:\n",
    "        # Human-like pacing\n",
    "        time.sleep(random.uniform(1.8, 3.6))\n",
    "\n",
    "        driver.get(url)\n",
    "        html = driver.page_source\n",
    "        soup = BeautifulSoup(html, 'html.parser')\n",
    "\n",
    "        \n",
    "        data_dict = {}\n",
    "        # 1-Ajouter la ville\n",
    "        title_text = soup.find(\"title\").get_text().strip()\n",
    "        ville = title_text.split(\"Prix immobilier\")[1].split(\"(\")[0].strip()\n",
    "        data_dict[\"ville\"] = ville\n",
    "        \n",
    "        #2-ajouter prix achat+loyer au m2 appt et maison\n",
    "        raw_text3 = soup.find_all(\"ul\", class_=\"prices-summary__price-range\")\n",
    "        for ul in raw_text3:\n",
    "            li_items = ul.find_all(\"li\")\n",
    "            label = li_items[0].get_text().strip().lower()\n",
    "            main_value = extract_number(li_items[1].get_text())\n",
    "            # Nettoyer le texte pour récupérer min et max correctement\n",
    "            range_text = li_items[2].get_text()\n",
    "            range_text = range_text.replace(\"\\u202f\", \"\").replace(\"\\xa0\", \"\").replace(\",\", \".\")\n",
    "            # Extraire tous les nombres sous forme de float\n",
    "            numbers_in_range = [float(n) for n in re.findall(r\"[\\d\\.]+\", range_text)]\n",
    "            if \"prix\" in label:\n",
    "                if \"prix_appartement\" not in data_dict:\n",
    "                    data_dict[\"prix_appartement\"] = main_value\n",
    "                    data_dict[\"min_appartement\"] = numbers_in_range[0]\n",
    "                    data_dict[\"max_appartement\"] = numbers_in_range[1]\n",
    "                else:\n",
    "                    data_dict[\"prix_maison\"] = main_value\n",
    "                    data_dict[\"min_maison\"] = numbers_in_range[0]\n",
    "                    data_dict[\"max_maison\"] = numbers_in_range[1]\n",
    "            elif \"loyer\" in label:\n",
    "                if \"loyer_appartement\" not in data_dict:\n",
    "                    data_dict[\"loyer_appartement\"] = main_value\n",
    "                    data_dict[\"loyer_min_appartement\"] = numbers_in_range[0]\n",
    "                    data_dict[\"loyer_max_appartement\"] = numbers_in_range[1]\n",
    "                else:\n",
    "                    data_dict[\"loyer_maison\"] = main_value\n",
    "                    data_dict[\"loyer_min_maison\"] = numbers_in_range[0]\n",
    "                    data_dict[\"loyer_max_maison\"] = numbers_in_range[1]\n",
    "        \n",
    "        #3-Ajouter l'URL pour référence\n",
    "        data_dict[\"url\"] = url\n",
    "        all_data.append(data_dict)\n",
    "        print(f\"Datas ajoutées pour la ville : {ville}\")\n",
    "        \n",
    "    except Exception as erreur:\n",
    "        print(f\"Erreur pour l'URL {url}: {erreur}\")\n",
    "        error_data.append({\n",
    "        \"url\": url,\n",
    "        \"erreur\": str(erreur)})\n",
    "        \n",
    "    # Pause pour ne pas surcharger le site\n",
    "    time.sleep(random.uniform(2.3, 3.6))\n",
    "\n",
    "driver.quit()\n",
    "\n"
   ]
  },
  {
   "cell_type": "code",
   "execution_count": 16,
   "id": "69adaf4b",
   "metadata": {},
   "outputs": [],
   "source": [
    "df_error_url = pd.DataFrame(error_data)\n",
    "df_meilleur_agent9 = pd.DataFrame(all_data)"
   ]
  },
  {
   "cell_type": "code",
   "execution_count": 17,
   "id": "3e35c5f6",
   "metadata": {},
   "outputs": [
    {
     "data": {
      "text/html": [
       "<div>\n",
       "<style scoped>\n",
       "    .dataframe tbody tr th:only-of-type {\n",
       "        vertical-align: middle;\n",
       "    }\n",
       "\n",
       "    .dataframe tbody tr th {\n",
       "        vertical-align: top;\n",
       "    }\n",
       "\n",
       "    .dataframe thead th {\n",
       "        text-align: right;\n",
       "    }\n",
       "</style>\n",
       "<table border=\"1\" class=\"dataframe\">\n",
       "  <thead>\n",
       "    <tr style=\"text-align: right;\">\n",
       "      <th></th>\n",
       "      <th>url</th>\n",
       "      <th>erreur</th>\n",
       "    </tr>\n",
       "  </thead>\n",
       "  <tbody>\n",
       "    <tr>\n",
       "      <th>0</th>\n",
       "      <td>https://www.meilleursagents.com/prix-immobilie...</td>\n",
       "      <td>list index out of range</td>\n",
       "    </tr>\n",
       "  </tbody>\n",
       "</table>\n",
       "</div>"
      ],
      "text/plain": [
       "                                                 url                   erreur\n",
       "0  https://www.meilleursagents.com/prix-immobilie...  list index out of range"
      ]
     },
     "execution_count": 17,
     "metadata": {},
     "output_type": "execute_result"
    }
   ],
   "source": [
    "df_error_url"
   ]
  },
  {
   "cell_type": "code",
   "execution_count": 47,
   "id": "c1f9f044",
   "metadata": {},
   "outputs": [],
   "source": [
    "df_meilleur_agent9['ratio_appt'] = round((df_meilleur_agent9['prix_appartement'] / df_meilleur_agent9['loyer_appartement']),1)\n",
    "\n",
    "df_meilleur_agent9['ratio_maison'] = round((df_meilleur_agent9['prix_maison'] / df_meilleur_agent9['loyer_maison']),1)\n",
    "\n",
    "df_meilleur_agent9 = df_meilleur_agent9.sort_values('ratio_appt')"
   ]
  }
 ],
 "metadata": {
  "kernelspec": {
   "display_name": "Python 3",
   "language": "python",
   "name": "python3"
  },
  "language_info": {
   "codemirror_mode": {
    "name": "ipython",
    "version": 3
   },
   "file_extension": ".py",
   "mimetype": "text/x-python",
   "name": "python",
   "nbconvert_exporter": "python",
   "pygments_lexer": "ipython3",
   "version": "3.9.6"
  }
 },
 "nbformat": 4,
 "nbformat_minor": 5
}
