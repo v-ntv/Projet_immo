{
 "cells": [
  {
   "cell_type": "code",
   "execution_count": 5,
   "id": "4e125310",
   "metadata": {},
   "outputs": [],
   "source": [
    "#pip install openpyxl"
   ]
  },
  {
   "cell_type": "code",
   "execution_count": null,
   "id": "cdf9bdc9",
   "metadata": {},
   "outputs": [],
   "source": [
    "import pandas as pd\n",
    "\n",
    "df = pd.read_excel('pays_de_la_loire_V3.xlsx')"
   ]
  },
  {
   "cell_type": "code",
   "execution_count": 10,
   "id": "bc7ce9d1",
   "metadata": {},
   "outputs": [],
   "source": [
    "import pandas as pd\n",
    "\n",
    "# Charger ton fichier\n",
    "df = pd.read_excel(\"pays_de_la_loire_V3.xlsx\")\n",
    "\n",
    "# Dictionnaire de correspondance code département -> nom\n",
    "departements = {\n",
    "    \"44\": \"Loire-Atlantique\",\n",
    "    \"49\": \"Maine-et-Loire\",\n",
    "    \"53\": \"Mayenne\",\n",
    "    \"72\": \"Sarthe\",\n",
    "    \"85\": \"Vendée\"\n",
    "}\n",
    "\n",
    "# Transformer la colonne \"Departement\" (ou \"CodePostal\" si c'est là)\n",
    "df[\"Departement\"] = df[\"departement\"].astype(str).map(departements)\n",
    "\n",
    "\n"
   ]
  },
  {
   "cell_type": "code",
   "execution_count": 13,
   "id": "e9a60bc9",
   "metadata": {},
   "outputs": [],
   "source": [
    "df['code_insee'] = df['#Code_commune_INSEE']\n",
    "\n",
    "df_cleaned = df[['code_insee','Code_postal','Departement']]\n",
    "\n",
    "df_cleaned.to_csv('pays_de_la_loire_V3_cleaned.csv',index=False)"
   ]
  }
 ],
 "metadata": {
  "kernelspec": {
   "display_name": "Python 3",
   "language": "python",
   "name": "python3"
  },
  "language_info": {
   "codemirror_mode": {
    "name": "ipython",
    "version": 3
   },
   "file_extension": ".py",
   "mimetype": "text/x-python",
   "name": "python",
   "nbconvert_exporter": "python",
   "pygments_lexer": "ipython3",
   "version": "3.13.7"
  }
 },
 "nbformat": 4,
 "nbformat_minor": 5
}
