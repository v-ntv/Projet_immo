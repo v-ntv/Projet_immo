{
 "cells": [
  {
   "cell_type": "code",
   "execution_count": null,
   "id": "0282cdb5",
   "metadata": {},
   "outputs": [],
   "source": [
    "https://data.economie.gouv.fr/api/explore/v2.1/catalog/datasets/fiscalite-locale-des-particuliers/exports/csv?lang=fr&timezone=Europe%2FParis&use_labels=true&delimiter=%3B"
   ]
  }
 ],
 "metadata": {
  "language_info": {
   "name": "python"
  }
 },
 "nbformat": 4,
 "nbformat_minor": 5
}
