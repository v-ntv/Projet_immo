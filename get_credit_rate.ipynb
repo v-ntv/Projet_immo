{
 "cells": [
  {
   "cell_type": "code",
   "execution_count": null,
   "id": "41a3e803",
   "metadata": {},
   "outputs": [],
   "source": [
    "#pip install selenium\n",
    "#pip install webdriver-manager"
   ]
  },
  {
   "cell_type": "code",
   "execution_count": null,
   "id": "18dde706",
   "metadata": {},
   "outputs": [
    {
     "name": "stdout",
     "output_type": "stream",
     "text": [
      "Scraping terminé ! 35 lignes récupérées et CSV sauvegardé.\n"
     ]
    }
   ],
   "source": [
    "from selenium import webdriver\n",
    "from selenium.webdriver.chrome.service import Service\n",
    "from webdriver_manager.chrome import ChromeDriverManager\n",
    "from selenium.webdriver.common.by import By\n",
    "import pandas as pd\n",
    "import time\n",
    "\n",
    "# Ouvrir le navigateur\n",
    "driver = webdriver.Chrome(service=Service(ChromeDriverManager().install()))\n",
    "\n",
    "url = \"https://webstat.banque-france.fr/fr/catalogue/mir1/MIR1.Q.FR.R.A22FRF.W3.R.A.2254FR.EUR.N\"\n",
    "driver.get(url)\n",
    "time.sleep(5)  # attendre le JS\n",
    "\n",
    "# Chercher le tableau\n",
    "tables = driver.find_elements(By.TAG_NAME, \"table\")\n",
    "if len(tables) == 0:\n",
    "    print(\"Aucun tableau trouvé sur la page.\")\n",
    "    driver.quit()\n",
    "    exit()\n",
    "\n",
    "table = tables[0]  # on prend le premier tableau\n",
    "rows = []\n",
    "\n",
    "# Récupérer toutes les lignes <tr>\n",
    "for tr in table.find_elements(By.TAG_NAME, \"tr\"):\n",
    "    cells = tr.find_elements(By.TAG_NAME, \"th\") + tr.find_elements(By.TAG_NAME, \"td\")\n",
    "    row = [cell.text.strip() for cell in cells]\n",
    "    if row:  # ignorer les lignes vides\n",
    "        rows.append(row)\n",
    "\n",
    "driver.quit()\n",
    "\n",
    "# Détecter automatiquement l'en-tête\n",
    "header = rows[0]  # première ligne comme colonnes\n",
    "data_rows = rows[1:]\n",
    "\n",
    "# Créer DataFrame\n",
    "df = pd.DataFrame(data_rows, columns=header)\n",
    "\n",
    "# Détecter les colonnes \"Période\" et \"Valeur\" si elles existent\n",
    "for col in df.columns:\n",
    "    if \"Période\" in col:\n",
    "        df[\"Période\"] = df[col]\n",
    "    if \"Valeur\" in col:\n",
    "        df[\"Valeur\"] = pd.to_numeric(df[col].str.replace(\",\", \".\"), errors=\"coerce\")\n"
   ]
  },
  {
   "cell_type": "code",
   "execution_count": 16,
   "id": "eea95a46",
   "metadata": {},
   "outputs": [],
   "source": [
    "df.to_csv('credit_rate.csv')\n"
   ]
  }
 ],
 "metadata": {
  "kernelspec": {
   "display_name": "Python 3",
   "language": "python",
   "name": "python3"
  },
  "language_info": {
   "codemirror_mode": {
    "name": "ipython",
    "version": 3
   },
   "file_extension": ".py",
   "mimetype": "text/x-python",
   "name": "python",
   "nbconvert_exporter": "python",
   "pygments_lexer": "ipython3",
   "version": "3.13.7"
  }
 },
 "nbformat": 4,
 "nbformat_minor": 5
}
