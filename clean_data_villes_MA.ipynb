{
 "cells": [
  {
   "cell_type": "code",
   "execution_count": 1,
   "id": "7d3f5ecd",
   "metadata": {},
   "outputs": [],
   "source": [
    "import pandas as pd\n",
    "import numpy as np"
   ]
  },
  {
   "cell_type": "code",
   "execution_count": 2,
   "id": "3c0ec934",
   "metadata": {},
   "outputs": [],
   "source": [
    "df_data_villes = pd.read_csv(\"villes_cp.csv\", \n",
    "                             delimiter=\";\",\n",
    "                             encoding=\"latin1\")"
   ]
  },
  {
   "cell_type": "code",
   "execution_count": 4,
   "id": "bb682800",
   "metadata": {},
   "outputs": [],
   "source": [
    "#permet d'avoir 5 caractères dans tous les cas donc 4400 --> 04400\n",
    "df_data_villes['Code_postal'] = df_data_villes['Code_postal'].astype(str).str.zfill(5)"
   ]
  },
  {
   "cell_type": "code",
   "execution_count": 5,
   "id": "a4a76dd6",
   "metadata": {},
   "outputs": [
    {
     "name": "stdout",
     "output_type": "stream",
     "text": [
      "<class 'pandas.core.frame.DataFrame'>\n",
      "RangeIndex: 39192 entries, 0 to 39191\n",
      "Data columns (total 5 columns):\n",
      " #   Column                  Non-Null Count  Dtype \n",
      "---  ------                  --------------  ----- \n",
      " 0   #Code_commune_INSEE     39192 non-null  object\n",
      " 1   Nom_de_la_commune       39192 non-null  object\n",
      " 2   Code_postal             39192 non-null  object\n",
      " 3   Libellé_d_acheminement  39192 non-null  object\n",
      " 4   Ligne_5                 4804 non-null   object\n",
      "dtypes: object(5)\n",
      "memory usage: 1.5+ MB\n"
     ]
    }
   ],
   "source": [
    "df_data_villes.info()"
   ]
  },
  {
   "cell_type": "code",
   "execution_count": 12,
   "id": "3e51c911",
   "metadata": {},
   "outputs": [],
   "source": [
    "df_data_villes['departement'] = df_data_villes['Code_postal'].str[:2]"
   ]
  },
  {
   "cell_type": "code",
   "execution_count": 8,
   "id": "8f248e9b",
   "metadata": {},
   "outputs": [],
   "source": [
    "#Création de la colonne pour le scrapping de Meilleur Agent\n",
    "df_data_villes['Lib_MA'] = df_data_villes['Ligne_5'].fillna(df_data_villes['Nom_de_la_commune'])"
   ]
  },
  {
   "cell_type": "code",
   "execution_count": 13,
   "id": "8696d980",
   "metadata": {},
   "outputs": [],
   "source": [
    "# remplace les majuscule par des minuscule et remplacer les espaces par des \"-\"\n",
    "df_data_villes['Nom_de_la_commune_url'] = df_data_villes['Lib_MA'].str.lower().str.replace(\" \", \"-\", regex=False) \n",
    "\n",
    "# remplacer les st par saint\n",
    "df_data_villes['Nom_de_la_commune_url'] = df_data_villes['Nom_de_la_commune_url'].str.replace(r'^st', 'saint', case=False, regex=True)\n",
    "\n",
    "#Création de la colonne url\n",
    "df_data_villes['url'] = (\"https://www.meilleursagents.com/prix-immobilier/\" + df_data_villes['Nom_de_la_commune_url'] + \"-\" + df_data_villes['Code_postal'].astype(str) + \"/\")\n",
    "\n",
    "#Je ne garde que les départements de la métropole\n",
    "df_data_villes_clean = df_data_villes[df_data_villes['Code_postal'] < '96000']\n",
    "\n",
    "#je supprime les colonnes inutiles\n",
    "df_data_villes_clean = df_data_villes_clean[['#Code_commune_INSEE','Lib_MA','departement','Code_postal','Nom_de_la_commune_url','url']]"
   ]
  },
  {
   "cell_type": "code",
   "execution_count": 20,
   "id": "34388ef5",
   "metadata": {},
   "outputs": [],
   "source": [
    "# Liste des départements à filtrer\n",
    "Pays_de_la_loire = ['44', '49', '53', '85', '72']\n",
    "\n",
    "# Filtrage\n",
    "df_data_villes_clean_filtre = df_data_villes_clean[df_data_villes_clean['departement'].isin(Pays_de_la_loire)]"
   ]
  },
  {
   "cell_type": "code",
   "execution_count": 21,
   "id": "6ca27c59",
   "metadata": {},
   "outputs": [
    {
     "data": {
      "text/html": [
       "<div>\n",
       "<style scoped>\n",
       "    .dataframe tbody tr th:only-of-type {\n",
       "        vertical-align: middle;\n",
       "    }\n",
       "\n",
       "    .dataframe tbody tr th {\n",
       "        vertical-align: top;\n",
       "    }\n",
       "\n",
       "    .dataframe thead th {\n",
       "        text-align: right;\n",
       "    }\n",
       "</style>\n",
       "<table border=\"1\" class=\"dataframe\">\n",
       "  <thead>\n",
       "    <tr style=\"text-align: right;\">\n",
       "      <th></th>\n",
       "      <th>#Code_commune_INSEE</th>\n",
       "      <th>Lib_MA</th>\n",
       "      <th>departement</th>\n",
       "      <th>Code_postal</th>\n",
       "      <th>Nom_de_la_commune_url</th>\n",
       "      <th>url</th>\n",
       "    </tr>\n",
       "  </thead>\n",
       "  <tbody>\n",
       "    <tr>\n",
       "      <th>17918</th>\n",
       "      <td>44001</td>\n",
       "      <td>ABBARETZ</td>\n",
       "      <td>44</td>\n",
       "      <td>44170</td>\n",
       "      <td>abbaretz</td>\n",
       "      <td>https://www.meilleursagents.com/prix-immobilie...</td>\n",
       "    </tr>\n",
       "    <tr>\n",
       "      <th>17919</th>\n",
       "      <td>44002</td>\n",
       "      <td>AIGREFEUILLE SUR MAINE</td>\n",
       "      <td>44</td>\n",
       "      <td>44140</td>\n",
       "      <td>aigrefeuille-sur-maine</td>\n",
       "      <td>https://www.meilleursagents.com/prix-immobilie...</td>\n",
       "    </tr>\n",
       "    <tr>\n",
       "      <th>17920</th>\n",
       "      <td>44003</td>\n",
       "      <td>ANCENIS</td>\n",
       "      <td>44</td>\n",
       "      <td>44150</td>\n",
       "      <td>ancenis</td>\n",
       "      <td>https://www.meilleursagents.com/prix-immobilie...</td>\n",
       "    </tr>\n",
       "    <tr>\n",
       "      <th>17921</th>\n",
       "      <td>44003</td>\n",
       "      <td>ST GEREON</td>\n",
       "      <td>44</td>\n",
       "      <td>44150</td>\n",
       "      <td>saint-gereon</td>\n",
       "      <td>https://www.meilleursagents.com/prix-immobilie...</td>\n",
       "    </tr>\n",
       "    <tr>\n",
       "      <th>17922</th>\n",
       "      <td>44005</td>\n",
       "      <td>ARTHON EN RETZ</td>\n",
       "      <td>44</td>\n",
       "      <td>44320</td>\n",
       "      <td>arthon-en-retz</td>\n",
       "      <td>https://www.meilleursagents.com/prix-immobilie...</td>\n",
       "    </tr>\n",
       "    <tr>\n",
       "      <th>...</th>\n",
       "      <td>...</td>\n",
       "      <td>...</td>\n",
       "      <td>...</td>\n",
       "      <td>...</td>\n",
       "      <td>...</td>\n",
       "      <td>...</td>\n",
       "    </tr>\n",
       "    <tr>\n",
       "      <th>36551</th>\n",
       "      <td>85302</td>\n",
       "      <td>CHAMBRETAUD</td>\n",
       "      <td>85</td>\n",
       "      <td>85500</td>\n",
       "      <td>chambretaud</td>\n",
       "      <td>https://www.meilleursagents.com/prix-immobilie...</td>\n",
       "    </tr>\n",
       "    <tr>\n",
       "      <th>36552</th>\n",
       "      <td>85303</td>\n",
       "      <td>VIX</td>\n",
       "      <td>85</td>\n",
       "      <td>85770</td>\n",
       "      <td>vix</td>\n",
       "      <td>https://www.meilleursagents.com/prix-immobilie...</td>\n",
       "    </tr>\n",
       "    <tr>\n",
       "      <th>36553</th>\n",
       "      <td>85304</td>\n",
       "      <td>VOUILLE LES MARAIS</td>\n",
       "      <td>85</td>\n",
       "      <td>85450</td>\n",
       "      <td>vouille-les-marais</td>\n",
       "      <td>https://www.meilleursagents.com/prix-immobilie...</td>\n",
       "    </tr>\n",
       "    <tr>\n",
       "      <th>36554</th>\n",
       "      <td>85305</td>\n",
       "      <td>VOUVANT</td>\n",
       "      <td>85</td>\n",
       "      <td>85120</td>\n",
       "      <td>vouvant</td>\n",
       "      <td>https://www.meilleursagents.com/prix-immobilie...</td>\n",
       "    </tr>\n",
       "    <tr>\n",
       "      <th>36555</th>\n",
       "      <td>85306</td>\n",
       "      <td>XANTON CHASSENON</td>\n",
       "      <td>85</td>\n",
       "      <td>85240</td>\n",
       "      <td>xanton-chassenon</td>\n",
       "      <td>https://www.meilleursagents.com/prix-immobilie...</td>\n",
       "    </tr>\n",
       "  </tbody>\n",
       "</table>\n",
       "<p>1602 rows × 6 columns</p>\n",
       "</div>"
      ],
      "text/plain": [
       "      #Code_commune_INSEE                  Lib_MA departement Code_postal  \\\n",
       "17918               44001                ABBARETZ          44       44170   \n",
       "17919               44002  AIGREFEUILLE SUR MAINE          44       44140   \n",
       "17920               44003                 ANCENIS          44       44150   \n",
       "17921               44003               ST GEREON          44       44150   \n",
       "17922               44005          ARTHON EN RETZ          44       44320   \n",
       "...                   ...                     ...         ...         ...   \n",
       "36551               85302             CHAMBRETAUD          85       85500   \n",
       "36552               85303                     VIX          85       85770   \n",
       "36553               85304      VOUILLE LES MARAIS          85       85450   \n",
       "36554               85305                 VOUVANT          85       85120   \n",
       "36555               85306        XANTON CHASSENON          85       85240   \n",
       "\n",
       "        Nom_de_la_commune_url  \\\n",
       "17918                abbaretz   \n",
       "17919  aigrefeuille-sur-maine   \n",
       "17920                 ancenis   \n",
       "17921            saint-gereon   \n",
       "17922          arthon-en-retz   \n",
       "...                       ...   \n",
       "36551             chambretaud   \n",
       "36552                     vix   \n",
       "36553      vouille-les-marais   \n",
       "36554                 vouvant   \n",
       "36555        xanton-chassenon   \n",
       "\n",
       "                                                     url  \n",
       "17918  https://www.meilleursagents.com/prix-immobilie...  \n",
       "17919  https://www.meilleursagents.com/prix-immobilie...  \n",
       "17920  https://www.meilleursagents.com/prix-immobilie...  \n",
       "17921  https://www.meilleursagents.com/prix-immobilie...  \n",
       "17922  https://www.meilleursagents.com/prix-immobilie...  \n",
       "...                                                  ...  \n",
       "36551  https://www.meilleursagents.com/prix-immobilie...  \n",
       "36552  https://www.meilleursagents.com/prix-immobilie...  \n",
       "36553  https://www.meilleursagents.com/prix-immobilie...  \n",
       "36554  https://www.meilleursagents.com/prix-immobilie...  \n",
       "36555  https://www.meilleursagents.com/prix-immobilie...  \n",
       "\n",
       "[1602 rows x 6 columns]"
      ]
     },
     "execution_count": 21,
     "metadata": {},
     "output_type": "execute_result"
    }
   ],
   "source": [
    "#Test\n",
    "df_data_villes_clean_filtre"
   ]
  },
  {
   "cell_type": "code",
   "execution_count": 22,
   "id": "214f3201",
   "metadata": {},
   "outputs": [],
   "source": [
    "#Ici on enregistre le nouveau df en entier\n",
    "df_data_villes_clean.to_csv('villes_cp_clean.csv')"
   ]
  },
  {
   "cell_type": "code",
   "execution_count": 23,
   "id": "92f0e473",
   "metadata": {},
   "outputs": [
    {
     "name": "stderr",
     "output_type": "stream",
     "text": [
      "/Users/amauryguilbaud/Library/Python/3.9/lib/python/site-packages/numpy/_core/fromnumeric.py:57: FutureWarning: 'DataFrame.swapaxes' is deprecated and will be removed in a future version. Please use 'DataFrame.transpose' instead.\n",
      "  return bound(*args, **kwds)\n"
     ]
    }
   ],
   "source": [
    "#Ici on divise et enregistre le nouveau df en 6\n",
    "number_of_chunks = 6\n",
    "for i, chunk in enumerate(np.array_split(df_data_villes_clean_filtre, number_of_chunks)):\n",
    "    chunk.to_csv(f'pays_de_la_loire{i+1}.csv')"
   ]
  }
 ],
 "metadata": {
  "kernelspec": {
   "display_name": "Python 3",
   "language": "python",
   "name": "python3"
  },
  "language_info": {
   "codemirror_mode": {
    "name": "ipython",
    "version": 3
   },
   "file_extension": ".py",
   "mimetype": "text/x-python",
   "name": "python",
   "nbconvert_exporter": "python",
   "pygments_lexer": "ipython3",
   "version": "3.9.6"
  }
 },
 "nbformat": 4,
 "nbformat_minor": 5
}
