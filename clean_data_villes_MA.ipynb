{
 "cells": [
  {
   "cell_type": "code",
   "execution_count": 1,
   "id": "7d3f5ecd",
   "metadata": {},
   "outputs": [],
   "source": [
    "import pandas as pd\n",
    "import numpy as np"
   ]
  },
  {
   "cell_type": "code",
   "execution_count": 2,
   "id": "3c0ec934",
   "metadata": {},
   "outputs": [],
   "source": [
    "df_data_villes = pd.read_csv(\"villes_cp.csv\", \n",
    "                             delimiter=\";\",\n",
    "                             encoding=\"latin1\")"
   ]
  },
  {
   "cell_type": "code",
   "execution_count": 3,
   "id": "06bf3635",
   "metadata": {},
   "outputs": [],
   "source": [
    "#on clean la colonne nom de la commune\n",
    "df_data_villes['Nom_de_la_commune'] = (\n",
    "    df_data_villes['Nom_de_la_commune']\n",
    "    .str.lower()                         # mettre en minuscule\n",
    "    .str.replace(\" \", \"-\", regex=False)  # remplacer les espaces par des \"-\"\n",
    ")\n",
    "df_data_villes['Nom_de_la_commune'] = df_data_villes['Nom_de_la_commune'].str.replace(\n",
    "    r'^st', 'saint', case=False, regex=True # remplacer les st par saint\n",
    ")\n",
    "\n",
    "\n",
    "#permet d'avoir 5 caractères dans tous les cas donc 4400 --> 04400\n",
    "df_data_villes['Code_postal'] = df_data_villes['Code_postal'].astype(str).str.zfill(5)\n",
    "\n",
    "#Création de la colonne url\n",
    "df_data_villes['url'] = (\n",
    "    \"https://www.meilleursagents.com/prix-immobilier/\" +\n",
    "    df_data_villes['Nom_de_la_commune'] +\n",
    "    \"-\" +\n",
    "    df_data_villes['Code_postal'].astype(str) + \n",
    "    \"/\"\n",
    ")\n",
    "\n",
    "#je supprime les lignes avec la même ville et donc le même url\n",
    "df_data_villes_clean = df_data_villes.drop_duplicates(subset=['Nom_de_la_commune'])\n",
    "\n",
    "#je supprime les colonnes inutiles\n",
    "df_data_villes_clean = df_data_villes_clean.drop(columns=['Ligne_5'])\n",
    "df_data_villes_clean = df_data_villes_clean.drop(columns=['Libellé_d_acheminement'])"
   ]
  },
  {
   "cell_type": "code",
   "execution_count": null,
   "id": "6ca27c59",
   "metadata": {},
   "outputs": [],
   "source": [
    "#Test"
   ]
  },
  {
   "cell_type": "code",
   "execution_count": 4,
   "id": "214f3201",
   "metadata": {},
   "outputs": [],
   "source": [
    "#Ici on enregistre le nouveau df en entier\n",
    "df_data_villes_clean.to_csv('villes_cp_clean.csv')"
   ]
  },
  {
   "cell_type": "code",
   "execution_count": 5,
   "id": "92f0e473",
   "metadata": {},
   "outputs": [
    {
     "name": "stderr",
     "output_type": "stream",
     "text": [
      "/Users/amauryguilbaud/Library/Python/3.9/lib/python/site-packages/numpy/_core/fromnumeric.py:57: FutureWarning: 'DataFrame.swapaxes' is deprecated and will be removed in a future version. Please use 'DataFrame.transpose' instead.\n",
      "  return bound(*args, **kwds)\n"
     ]
    }
   ],
   "source": [
    "#Ici on divise et enregistre le nouveau df en 15\n",
    "number_of_chunks = 15\n",
    "for i, chunk in enumerate(np.array_split(df_data_villes_clean, number_of_chunks)):\n",
    "    chunk.to_csv(f'output_{i+1}.csv')"
   ]
  }
 ],
 "metadata": {
  "kernelspec": {
   "display_name": "Python 3",
   "language": "python",
   "name": "python3"
  },
  "language_info": {
   "codemirror_mode": {
    "name": "ipython",
    "version": 3
   },
   "file_extension": ".py",
   "mimetype": "text/x-python",
   "name": "python",
   "nbconvert_exporter": "python",
   "pygments_lexer": "ipython3",
   "version": "3.9.6"
  }
 },
 "nbformat": 4,
 "nbformat_minor": 5
}
