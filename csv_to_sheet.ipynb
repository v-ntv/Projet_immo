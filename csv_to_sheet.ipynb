{
 "cells": [
  {
   "cell_type": "code",
   "execution_count": 15,
   "id": "3f139784",
   "metadata": {},
   "outputs": [],
   "source": [
    "#pip install gspread gspread-dataframe oauth2client pandas"
   ]
  },
  {
   "cell_type": "code",
   "execution_count": 16,
   "id": "2d96f60e",
   "metadata": {},
   "outputs": [],
   "source": [
    "import pandas as pd\n",
    "import gspread\n",
    "from gspread_dataframe import set_with_dataframe\n",
    "from google.oauth2.service_account import Credentials"
   ]
  },
  {
   "cell_type": "code",
   "execution_count": 17,
   "id": "ba11a8da",
   "metadata": {},
   "outputs": [],
   "source": [
    "df = pd.read_csv('df_MA_calcul.csv')\n",
    "\n",
    "mask_dep44 = (df['Departement'] == 'Loire-Atlantique')\n",
    "mask_dep85 = (df['Departement'] == 'Vendée')\n",
    "mask_dep49 = (df['Departement'] == 'Maine-et-Loire')\n",
    "mask_dep53 = (df['Departement'] == 'Mayenne')\n",
    "mask_dep72 = (df['Departement'] == 'Sarthe')\n",
    "\n",
    "df_dep44 = df.loc[mask_dep44]\n",
    "df_dep85 = df.loc[mask_dep85]\n",
    "df_dep49 = df.loc[mask_dep49]\n",
    "df_dep53 = df.loc[mask_dep53]\n",
    "df_dep72 = df.loc[mask_dep72]"
   ]
  },
  {
   "cell_type": "code",
   "execution_count": 18,
   "id": "68ec4d33",
   "metadata": {},
   "outputs": [],
   "source": [
    "# Path to the service account JSON key\n",
    "SERVICE_ACCOUNT_FILE = 'projet-immo-gsheet.json'\n",
    "\n",
    "# Define scopes\n",
    "SCOPES = [\n",
    "    'https://www.googleapis.com/auth/spreadsheets',\n",
    "    'https://www.googleapis.com/auth/drive'\n",
    "]\n",
    "\n",
    "# Authenticate with the service account\n",
    "creds = Credentials.from_service_account_file(SERVICE_ACCOUNT_FILE, scopes=SCOPES)\n",
    "gc = gspread.authorize(creds)\n",
    "\n",
    "# Open the Google Sheet by name\n",
    "for_df_dep44 = gc.open_by_key(\"1wqVyh3TCP974SMXgXuWFHaRbfjqR0rJYMTwIB7b8_OA\").sheet1  \n",
    "for_df_dep85 = gc.open_by_key(\"1C8ymzz8WQyHDPLHe46LpgeMjIdhRU5jg9o8nDE1fo4I\").sheet1  \n",
    "for_df_dep49 = gc.open_by_key(\"1CMqbKjtg4JyDSMVNZ_GA2yZYGdQs181R9kaJ4vILTaQ\").sheet1  \n",
    "for_df_dep53 = gc.open_by_key(\"1nNOct3dPJiUzBjAc70ohY0wq8TsVIqgBN-kR_1zE0LI\").sheet1  \n",
    "for_df_dep72 = gc.open_by_key(\"1R9lCZZh_1ABlZYPqnXatAfpMO0tTNb1I1-yAzBZrVZM\").sheet1  \n",
    "\n",
    "# Write DataFrame to the sheet (overwrites)\n",
    "set_with_dataframe(for_df_dep44, df_dep44)\n",
    "set_with_dataframe(for_df_dep85, df_dep85)\n",
    "set_with_dataframe(for_df_dep49, df_dep49)\n",
    "set_with_dataframe(for_df_dep53, df_dep53)\n",
    "set_with_dataframe(for_df_dep72, df_dep72)"
   ]
  }
 ],
 "metadata": {
  "kernelspec": {
   "display_name": "Python 3",
   "language": "python",
   "name": "python3"
  },
  "language_info": {
   "codemirror_mode": {
    "name": "ipython",
    "version": 3
   },
   "file_extension": ".py",
   "mimetype": "text/x-python",
   "name": "python",
   "nbconvert_exporter": "python",
   "pygments_lexer": "ipython3",
   "version": "3.13.7"
  }
 },
 "nbformat": 4,
 "nbformat_minor": 5
}
