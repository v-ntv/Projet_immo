{
 "cells": [
  {
   "cell_type": "code",
   "execution_count": 50,
   "id": "b5732fb7",
   "metadata": {},
   "outputs": [],
   "source": [
    "import pandas as pd\n",
    "import numpy as np\n",
    "import random\n",
    "\n",
    "df_fiscality = pd.read_csv('df_fiscality.csv')\n",
    "df_MA_temp = pd.read_csv('df_MA_clean.csv')\n"
   ]
  },
  {
   "cell_type": "code",
   "execution_count": 51,
   "id": "f954f5c7",
   "metadata": {},
   "outputs": [],
   "source": [
    "df_MA_clean = df_MA_temp.drop(columns=['Taux_Global_TFB'])"
   ]
  },
  {
   "cell_type": "code",
   "execution_count": 52,
   "id": "bb4dea80",
   "metadata": {},
   "outputs": [],
   "source": [
    "mask = df_MA_clean['loyer_maison'].isna()\n",
    "\n",
    "if mask.any(): \n",
    "    df_MA_clean.loc[mask, 'loyer_maison'] = df_MA_clean.loc[mask, 'loyer_appartement']\n",
    "    df_MA_clean.loc[mask, 'loyer_appartement'] = np.nan\n",
    "    \n",
    "    df_MA_clean.loc[mask, 'loyer_min_maison'] = df_MA_clean.loc[mask, 'loyer_min_appartement']\n",
    "    df_MA_clean.loc[mask, 'loyer_min_appartement'] = np.nan\n",
    "    \n",
    "    df_MA_clean.loc[mask, 'loyer_max_maison'] = df_MA_clean.loc[mask, 'loyer_max_appartement']\n",
    "    df_MA_clean.loc[mask, 'loyer_max_appartement'] = np.nan\n"
   ]
  },
  {
   "cell_type": "code",
   "execution_count": 53,
   "id": "f5e57afa",
   "metadata": {},
   "outputs": [],
   "source": [
    "from datetime import datetime\n",
    "\n",
    "today = datetime.today()\n",
    "current_year = today.year\n",
    "link_year = current_year - 1\n",
    "\n",
    "# Filter for current year\n",
    "df_current = df_fiscality[df_fiscality['EXERCICE'] == current_year]\n",
    "\n",
    "if not df_current.empty:\n",
    "    df_fiscality_2024 = df_current\n",
    "else:\n",
    "    # Fallback to previous year\n",
    "    df_fiscality_2024 = df_fiscality[df_fiscality['EXERCICE'] == link_year]\n",
    "\n",
    "# Select the needed columns\n",
    "df_fiscality_clean = df_fiscality_2024[['Taux_Global_TFB', 'INSEE COM']]\n"
   ]
  },
  {
   "cell_type": "code",
   "execution_count": 54,
   "id": "c12abaf2",
   "metadata": {},
   "outputs": [
    {
     "name": "stderr",
     "output_type": "stream",
     "text": [
      "C:\\Users\\vince\\AppData\\Local\\Temp\\ipykernel_9300\\3420464112.py:3: SettingWithCopyWarning: \n",
      "A value is trying to be set on a copy of a slice from a DataFrame.\n",
      "Try using .loc[row_indexer,col_indexer] = value instead\n",
      "\n",
      "See the caveats in the documentation: https://pandas.pydata.org/pandas-docs/stable/user_guide/indexing.html#returning-a-view-versus-a-copy\n",
      "  df_fiscality_clean['INSEE COM'] = df_fiscality_clean['INSEE COM'].astype(str)\n"
     ]
    }
   ],
   "source": [
    "# join DF on 'Code_insee' and 'INSEE COM'\n",
    "df_MA_clean['Code_insee'] = df_MA_clean['Code_insee'].astype(str)\n",
    "df_fiscality_clean['INSEE COM'] = df_fiscality_clean['INSEE COM'].astype(str)\n",
    "\n",
    "df_merged = df_MA_clean.merge(df_fiscality_clean, how='left', left_on='Code_insee', right_on='INSEE COM')"
   ]
  },
  {
   "cell_type": "code",
   "execution_count": 55,
   "id": "96c97cf5",
   "metadata": {},
   "outputs": [],
   "source": [
    "df_merged_clean = df_merged[['ville','prix_appartement','min_appartement','max_appartement','prix_maison','min_maison','max_maison','loyer_appartement','loyer_min_appartement','loyer_max_appartement','loyer_maison','loyer_min_maison','loyer_max_maison','Taux_Global_TFB','Code_insee','Departement','geo']]\n",
    "df_merged['Taux_Global_TFB'] = df_merged_clean['Taux_Global_TFB'] / 100"
   ]
  },
  {
   "cell_type": "code",
   "execution_count": 56,
   "id": "fd980396",
   "metadata": {},
   "outputs": [],
   "source": [
    "# example df for calculation\n",
    "df_calcul = df_merged_clean.copy()"
   ]
  },
  {
   "cell_type": "code",
   "execution_count": 57,
   "id": "edb444ba",
   "metadata": {},
   "outputs": [],
   "source": [
    "# nb fixe\n",
    "df_calcul['nb_m2'] = 50\n",
    "df_calcul['nb_mois'] = 12\n",
    "df_calcul['assurance_pno_annuel'] = 300\n",
    "df_calcul['frais_agence_%'] = 0.05\n",
    "df_calcul['frais_notaire_%'] = 0.08\n",
    "df_calcul['garantie_loyer_impaye'] = 0.03\n",
    "df_calcul['compta_annuelle'] = 600\n",
    "df_calcul['prevision_entretien_annuel'] = 2000\n",
    "df_calcul['prevision_gros_oeuvre_annuel'] = 50000\n",
    "df_calcul['taux_occupation'] = 0.95\n",
    "\n",
    "# nb variable\n",
    "df_calcul['loyer_mensuel_appart'] = df_calcul['loyer_appartement'] * df_calcul['nb_m2'] * df_calcul['taux_occupation']\n",
    "df_calcul['loyer_mensuel_maison'] = df_calcul['loyer_maison'] * df_calcul['nb_m2'] * df_calcul['taux_occupation']\n",
    "df_calcul['loyer_annuel_appart'] = df_calcul['loyer_mensuel_appart'] * df_calcul['nb_mois']\n",
    "df_calcul['loyer_annuel_maison'] = df_calcul['loyer_mensuel_maison'] * df_calcul['nb_mois']\n",
    "df_calcul['garantie_loyer_impaye_annuel_appart'] = df_calcul['garantie_loyer_impaye'] * df_calcul['loyer_annuel_appart']\n",
    "df_calcul['garantie_loyer_impaye_annuel_maison'] = df_calcul['garantie_loyer_impaye'] * df_calcul['loyer_annuel_maison']\n",
    "df_calcul['prix_net_vendeur_appart'] = df_calcul['prix_appartement'] * df_calcul['nb_m2']\n",
    "df_calcul['prix_net_vendeur_maison'] = df_calcul['prix_maison'] * df_calcul['nb_m2']\n",
    "df_calcul['frais_agence_maison'] = df_calcul['frais_agence_%'] * df_calcul['prix_net_vendeur_maison'] \n",
    "df_calcul['frais_agence_appart'] = df_calcul['frais_agence_%'] * df_calcul['prix_net_vendeur_appart'] \n",
    "df_calcul['frais_notaire_maison'] = df_calcul['frais_notaire_%'] * df_calcul['prix_net_vendeur_maison'] \n",
    "df_calcul['frais_notaire_appart'] = df_calcul['frais_notaire_%'] * df_calcul['prix_net_vendeur_appart'] \n",
    "df_calcul['prevision_entretien_annuel_appart'] = df_calcul['loyer_annuel_appart'] * 0.02\n",
    "df_calcul['prevision_entretien_annuel_maison'] = df_calcul['loyer_annuel_maison'] * 0.02\n",
    "df_calcul['prevision_gros_oeuvre_annuel_appart'] = df_calcul['prix_net_vendeur_appart']  * 0.005\n",
    "df_calcul['prevision_gros_oeuvre_annuel_maison'] = df_calcul['prix_net_vendeur_maison'] * 0.005\n",
    "df_calcul['valeur_cadastrale_locative_appart'] = df_calcul['loyer_annuel_appart'] / 2.5\n",
    "df_calcul['valeur_cadastrale_locative_maison'] = df_calcul['loyer_annuel_maison'] / 2.5\n",
    "df_calcul['TFPB_annuel_appart'] = df_calcul['valeur_cadastrale_locative_appart'] * df_calcul['Taux_Global_TFB'] / 100\n",
    "df_calcul['TFPB_annuel_maison'] = df_calcul['valeur_cadastrale_locative_maison'] * df_calcul['Taux_Global_TFB'] / 100\n",
    "df_calcul['charges_copro_annuel'] = 50\n",
    "df_calcul['assurance_habitation_annuel'] = 0\n",
    "df_calcul['frais_gestion_loc_annuel'] = 200\n",
    "df_calcul['prix_achat_total_appart'] = df_calcul['prix_net_vendeur_appart'] + df_calcul['frais_agence_appart'] + df_calcul['frais_notaire_appart']\n",
    "df_calcul['prix_achat_total_maison'] = df_calcul['prix_net_vendeur_maison'] + df_calcul['frais_agence_maison'] + df_calcul['frais_notaire_maison']\n",
    "df_calcul['renta_brute_appart'] = df_calcul['loyer_annuel_appart'] / df_calcul['prix_achat_total_appart']\n",
    "df_calcul['renta_brute_maison'] = df_calcul['loyer_annuel_maison'] / df_calcul['prix_achat_total_maison']\n",
    "df_calcul['charges_annuelles_appart'] = df_calcul['assurance_pno_annuel'] + df_calcul['garantie_loyer_impaye_annuel_appart'] + df_calcul['TFPB_annuel_appart'] + df_calcul['charges_copro_annuel'] + df_calcul['assurance_habitation_annuel'] + df_calcul['frais_gestion_loc_annuel'] \n",
    "df_calcul['charges_annuelles_maison'] = df_calcul['assurance_pno_annuel'] + df_calcul['garantie_loyer_impaye_annuel_maison'] + df_calcul['TFPB_annuel_maison'] + df_calcul['charges_copro_annuel'] + df_calcul['assurance_habitation_annuel'] + df_calcul['frais_gestion_loc_annuel'] \n",
    "df_calcul['renta_nette_appart'] = (df_calcul['loyer_annuel_appart'] - df_calcul['charges_annuelles_appart']) / df_calcul['prix_achat_total_appart']\n",
    "df_calcul['renta_nette_maison'] = (df_calcul['loyer_annuel_maison'] - df_calcul['charges_annuelles_maison']) / df_calcul['prix_achat_total_maison']"
   ]
  },
  {
   "cell_type": "code",
   "execution_count": 58,
   "id": "f3b2f148",
   "metadata": {},
   "outputs": [],
   "source": [
    "df_calcul.to_csv('example_df_MA_calcul.csv',index=False)"
   ]
  },
  {
   "cell_type": "code",
   "execution_count": 59,
   "id": "31c0c8ad",
   "metadata": {},
   "outputs": [],
   "source": [
    "mask_dep44 = (df_merged_clean['Departement'] == 'Loire-Atlantique')\n",
    "mask_dep85 = (df_merged_clean['Departement'] == 'Vendée')\n",
    "mask_dep49 = (df_merged_clean['Departement'] == 'Maine-et-Loire')\n",
    "mask_dep53 = (df_merged_clean['Departement'] == 'Mayenne')\n",
    "mask_dep72 = (df_merged_clean['Departement'] == 'Sarthe')\n",
    " \n"
   ]
  },
  {
   "cell_type": "code",
   "execution_count": 60,
   "id": "521d36d5",
   "metadata": {},
   "outputs": [],
   "source": [
    "if (df_merged_clean.loc[mask_dep44, 'Taux_Global_TFB'].isna().any()):\n",
    "    mean_value = df_merged_clean.loc[mask_dep44, 'Taux_Global_TFB'].mean()\n",
    "    df_merged_clean.loc[mask_dep44 & df_merged_clean['Taux_Global_TFB'].isna(), 'Taux_Global_TFB'] = mean_value\n",
    "\n",
    "if (df_merged_clean.loc[mask_dep85, 'Taux_Global_TFB'].isna().any()):\n",
    "    mean_value = df_merged_clean.loc[mask_dep85, 'Taux_Global_TFB'].mean()\n",
    "    df_merged_clean.loc[mask_dep85 & df_merged_clean['Taux_Global_TFB'].isna(), 'Taux_Global_TFB'] = mean_value\n",
    "\n",
    "if (df_merged_clean.loc[mask_dep49, 'Taux_Global_TFB'].isna().any()):\n",
    "    mean_value = df_merged_clean.loc[mask_dep49, 'Taux_Global_TFB'].mean()\n",
    "    df_merged_clean.loc[mask_dep49 & df_merged_clean['Taux_Global_TFB'].isna(), 'Taux_Global_TFB'] = mean_value\n",
    "\n",
    "if (df_merged_clean.loc[mask_dep53, 'Taux_Global_TFB'].isna().any()):\n",
    "    mean_value = df_merged_clean.loc[mask_dep53, 'Taux_Global_TFB'].mean()\n",
    "    df_merged_clean.loc[mask_dep53 & df_merged_clean['Taux_Global_TFB'].isna(), 'Taux_Global_TFB'] = mean_value\n",
    "\n",
    "if (df_merged_clean.loc[mask_dep72, 'Taux_Global_TFB'].isna().any()):\n",
    "    mean_value = df_merged_clean.loc[mask_dep72, 'Taux_Global_TFB'].mean()\n",
    "    df_merged_clean.loc[mask_dep72 & df_merged_clean['Taux_Global_TFB'].isna(), 'Taux_Global_TFB'] = mean_value\n"
   ]
  },
  {
   "cell_type": "code",
   "execution_count": 61,
   "id": "e50059b5",
   "metadata": {},
   "outputs": [],
   "source": [
    "df_merged_clean.to_csv('df_MA_calcul.csv',index=False)"
   ]
  }
 ],
 "metadata": {
  "kernelspec": {
   "display_name": "Python 3",
   "language": "python",
   "name": "python3"
  },
  "language_info": {
   "codemirror_mode": {
    "name": "ipython",
    "version": 3
   },
   "file_extension": ".py",
   "mimetype": "text/x-python",
   "name": "python",
   "nbconvert_exporter": "python",
   "pygments_lexer": "ipython3",
   "version": "3.13.7"
  }
 },
 "nbformat": 4,
 "nbformat_minor": 5
}
