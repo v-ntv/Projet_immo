{
 "cells": [
  {
   "cell_type": "code",
   "execution_count": 1,
   "id": "9f1c66b1",
   "metadata": {},
   "outputs": [],
   "source": [
    "import pandas as pd "
   ]
  },
  {
   "cell_type": "code",
   "execution_count": 4,
   "id": "a221e759",
   "metadata": {},
   "outputs": [],
   "source": [
    "df_data_villes_clean = pd.read_csv('df_data_villes_clean.csv')"
   ]
  },
  {
   "cell_type": "code",
   "execution_count": 7,
   "id": "b0550a23",
   "metadata": {},
   "outputs": [],
   "source": [
    "df_data_villes_clean['Nom_de_la_commune'] = df_data_villes_clean['Nom_de_la_commune'].str.replace(\n",
    "    r'^st', 'saint', case=False, regex=True\n",
    ")"
   ]
  },
  {
   "cell_type": "code",
   "execution_count": 10,
   "id": "55cef0f7",
   "metadata": {},
   "outputs": [],
   "source": [
    "df_data_villes_clean.to_csv('df_data_villes_clean.csv')"
   ]
  }
 ],
 "metadata": {
  "kernelspec": {
   "display_name": "Python 3",
   "language": "python",
   "name": "python3"
  },
  "language_info": {
   "codemirror_mode": {
    "name": "ipython",
    "version": 3
   },
   "file_extension": ".py",
   "mimetype": "text/x-python",
   "name": "python",
   "nbconvert_exporter": "python",
   "pygments_lexer": "ipython3",
   "version": "3.13.7"
  }
 },
 "nbformat": 4,
 "nbformat_minor": 5
}
