{
 "cells": [
  {
   "cell_type": "markdown",
   "id": "047182f7",
   "metadata": {},
   "source": [
    "# Changer le CSV et le nom des DF\n",
    "\n",
    "- output_(n).csv\n",
    "cellule 4\n",
    "\n",
    "- df_data_villes_clean(n)\n",
    "cellules: 4, 5, 6\n",
    "\n",
    "- df_meilleur_agent(n)\n",
    "cellules: 7, 8\n",
    "\n",
    "# Vérifier la shape de df_data_villes_clean(n) et df_meilleur_agent(n) \n",
    "\n",
    "il doit y avoir le même nombre de lignes"
   ]
  },
  {
   "cell_type": "code",
   "execution_count": null,
   "id": "a26cbd44",
   "metadata": {},
   "outputs": [],
   "source": [
    "#pip install selenium selenium-stealth beautifulsoup4 pandas"
   ]
  },
  {
   "cell_type": "code",
   "execution_count": null,
   "id": "3d9f3b5b",
   "metadata": {},
   "outputs": [],
   "source": [
    "from selenium import webdriver\n",
    "from selenium_stealth import stealth\n",
    "from selenium.webdriver.common.by import By\n",
    "from selenium.webdriver.common.keys import Keys\n",
    "from bs4 import BeautifulSoup\n",
    "import pandas as pd\n",
    "import re, time, random\n"
   ]
  },
  {
   "cell_type": "code",
   "execution_count": null,
   "id": "373448a2",
   "metadata": {},
   "outputs": [],
   "source": [
    "df_data_villes_clean11 = pd.read_csv(\"output_11.csv\", \n",
    "                                    index_col=0,\n",
    "                                    dtype=str)\n"
   ]
  },
  {
   "cell_type": "code",
   "execution_count": null,
   "id": "c59335b7",
   "metadata": {},
   "outputs": [],
   "source": [
    "df_data_villes_clean11.head()"
   ]
  },
  {
   "cell_type": "code",
   "execution_count": null,
   "id": "de8e5afa",
   "metadata": {},
   "outputs": [],
   "source": [
    "def extract_number(text):\n",
    "    \"\"\"Nettoyer le texte et transformer en float\"\"\"\n",
    "    clean_text = text.replace(\"\\u202f\", \"\").replace(\"\\xa0\", \"\").replace(\"€\", \"\").strip()\n",
    "    clean_text = clean_text.replace(\",\", \".\")\n",
    "    return float(clean_text)\n",
    "\n",
    "# Selenium setup (Chrome auto-managed by Selenium Manager; Chrome must be installed)\n",
    "options = webdriver.ChromeOptions()\n",
    "options.add_argument(\"--lang=fr-FR\")\n",
    "options.add_argument(\"--disable-blink-features=AutomationControlled\")\n",
    "# Uncomment to persist cookies/session between runs:\n",
    "# options.add_argument(r\"--user-data-dir=C:\\Users\\Dell\\AppData\\Local\\Google\\Chrome\\User Data\\ScrapeProfile\")\n",
    "\n",
    "driver = webdriver.Chrome(options=options)\n",
    "stealth(driver,\n",
    "    languages=[\"fr-FR\", \"fr\"],\n",
    "    vendor=\"Google Inc.\",\n",
    "    platform=\"Win32\",\n",
    "    webgl_vendor=\"Intel Inc.\",\n",
    "    renderer=\"Intel Iris OpenGL Engine\",\n",
    "    fix_hairline=True,\n",
    ")\n",
    "driver.set_window_size(1366, 768)\n",
    "\n",
    "# Lancer le navigateur\n",
    "driver.get(\"https://www.meilleursagents.com/prix-immobilier/\")"
   ]
  },
  {
   "cell_type": "code",
   "execution_count": null,
   "id": "817555a3",
   "metadata": {},
   "outputs": [],
   "source": [
    "# Liste pour stocker toutes les données\n",
    "all_data = []\n",
    "error_data = []\n",
    "\n",
    "for index, row in df_data_villes_clean11.iterrows():\n",
    "    city = row['Lib_MA']+\" (\"+row['Code_postal']+\")\"\n",
    "    try:\n",
    "        # Human-like pacing\n",
    "        time.sleep(random.uniform(1.8, 3.6))\n",
    "\n",
    "        # Trouver la barre de recherche\n",
    "        search_box = driver.find_element(By.NAME, \"q\")\n",
    "\n",
    "        # Simuler une frappe clavier, caractère par caractère\n",
    "        for y in city:\n",
    "            search_box.clear()\n",
    "            search_box.send_keys(y)\n",
    "            time.sleep(0.05)  # petite pause pour rendre la frappe réaliste\n",
    "\n",
    "        # Valider avec la touche Entrée\n",
    "        time.sleep(1)\n",
    "        search_box.send_keys(Keys.RETURN)\n",
    "        time.sleep(2)\n",
    "\n",
    "        html = driver.page_source\n",
    "        soup = BeautifulSoup(html, 'html.parser')\n",
    "\n",
    "        raw_text3 = soup.find_all(\"ul\", class_=\"prices-summary__price-range\")\n",
    "        data_dict = {}\n",
    "        if not raw_text3 :\n",
    "            driver.refresh()\n",
    "            time.sleep(3)\n",
    "        else:\n",
    "            # Ajouter la ville\n",
    "            title_text = soup.find(\"title\").get_text().strip()\n",
    "            ville = title_text.split(\"Prix immobilier\")[1].split(\"(\")[0].strip()\n",
    "            data_dict[\"ville\"] = ville\n",
    "\n",
    "            for ul in raw_text3:\n",
    "                li_items = ul.find_all(\"li\")\n",
    "                label = li_items[0].get_text().strip().lower()\n",
    "                main_value = extract_number(li_items[1].get_text())\n",
    "\n",
    "                # Nettoyer le texte pour récupérer min et max correctement\n",
    "                range_text = li_items[2].get_text()\n",
    "                range_text = range_text.replace(\"\\u202f\", \"\").replace(\"\\xa0\", \"\").replace(\",\", \".\")\n",
    "\n",
    "                # Extraire tous les nombres sous forme de float\n",
    "                numbers_in_range = [float(n) for n in re.findall(r\"[\\d\\.]+\", range_text)]\n",
    "                if \"prix\" in label:\n",
    "                    if \"prix_appartement\" not in data_dict:\n",
    "                        data_dict[\"prix_appartement\"] = main_value\n",
    "                        data_dict[\"min_appartement\"] = numbers_in_range[0]\n",
    "                        data_dict[\"max_appartement\"] = numbers_in_range[1]\n",
    "                    else:\n",
    "                        data_dict[\"prix_maison\"] = main_value\n",
    "                        data_dict[\"min_maison\"] = numbers_in_range[0]\n",
    "                        data_dict[\"max_maison\"] = numbers_in_range[1]\n",
    "                elif \"loyer\" in label:\n",
    "                    if \"loyer_appartement\" not in data_dict:\n",
    "                        data_dict[\"loyer_appartement\"] = main_value\n",
    "                        data_dict[\"loyer_min_appartement\"] = numbers_in_range[0]\n",
    "                        data_dict[\"loyer_max_appartement\"] = numbers_in_range[1]\n",
    "                    else:\n",
    "                        data_dict[\"loyer_maison\"] = main_value\n",
    "                        data_dict[\"loyer_min_maison\"] = numbers_in_range[0]\n",
    "                        data_dict[\"loyer_max_maison\"] = numbers_in_range[1]\n",
    "\n",
    "            # Ajouter l'URL pour référence\n",
    "            data_dict[\"city\"] = city\n",
    "            all_data.append(data_dict)\n",
    "            print(f\"Datas ajoutées pour la ville : {ville}\")\n",
    "\n",
    "    except Exception as e:\n",
    "        print(f\"Erreur pour la ville {city}: {e}\")\n",
    "        error_data.append({\n",
    "        \"city\": city,\n",
    "        \"erreur\": str(e)})\n",
    "\n",
    "    # Pause pour ne pas surcharger le site\n",
    "    time.sleep(random.uniform(1.8, 3.6))\n",
    "\n",
    "driver.quit()\n",
    "\n",
    "# Convertir en DataFrame\n",
    "# df_scraped = pd.DataFrame(all_data)\n",
    "# df_scraped.head()"
   ]
  },
  {
   "cell_type": "code",
   "execution_count": null,
   "id": "5bd7f2d4",
   "metadata": {},
   "outputs": [],
   "source": [
    "driver.quit()\n"
   ]
  },
  {
   "cell_type": "code",
   "execution_count": null,
   "id": "405f97ec",
   "metadata": {},
   "outputs": [],
   "source": [
    "df_meilleur_agent11 = pd.DataFrame(all_data)\n",
    "df_error_ma_11 = pd.DataFrame(error_data)"
   ]
  },
  {
   "cell_type": "code",
   "execution_count": null,
   "id": "c1f9f044",
   "metadata": {},
   "outputs": [],
   "source": [
    "df_meilleur_agent11.to_csv('ma_11.csv',index=False)\n",
    "df_error_ma_11.to_csv('error_ma_11.csv',index=False)"
   ]
  },
  {
   "cell_type": "code",
   "execution_count": null,
   "id": "9d76e3d2",
   "metadata": {},
   "outputs": [],
   "source": [
    "df_meilleur_agent11.shape\n",
    "df_error_ma_11.shape"
   ]
  },
  {
   "cell_type": "code",
   "execution_count": null,
   "id": "7e8ed109",
   "metadata": {},
   "outputs": [],
   "source": [
    "df_ma11.head()"
   ]
  }
 ],
 "metadata": {
  "kernelspec": {
   "display_name": "selenium_env1",
   "language": "python",
   "name": "python3"
  },
  "language_info": {
   "codemirror_mode": {
    "name": "ipython",
    "version": 3
   },
   "file_extension": ".py",
   "mimetype": "text/x-python",
   "name": "python",
   "nbconvert_exporter": "python",
   "pygments_lexer": "ipython3",
   "version": "3.13.5"
  }
 },
 "nbformat": 4,
 "nbformat_minor": 5
}
